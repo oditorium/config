{
 "cells": [
  {
   "cell_type": "markdown",
   "metadata": {},
   "source": [
    "# Public Keys"
   ]
  },
  {
   "cell_type": "markdown",
   "metadata": {},
   "source": [
    "## Preparation"
   ]
  },
  {
   "cell_type": "code",
   "execution_count": 30,
   "metadata": {},
   "outputs": [],
   "source": [
    "from hashlib import md5 as hsh\n",
    "from base64 import b64encode as encode\n",
    "from collections import namedtuple"
   ]
  },
  {
   "cell_type": "code",
   "execution_count": 31,
   "metadata": {},
   "outputs": [],
   "source": [
    "key_t = namedtuple(\"key_t\", \"device, account, date, keyid, keysig, key\")"
   ]
  },
  {
   "cell_type": "code",
   "execution_count": 32,
   "metadata": {},
   "outputs": [],
   "source": [
    "def ksig(keyv):\n",
    "    \"calculate key signature\"\n",
    "    return encode(hsh(keyv.encode()).digest()).decode()[:4]\n",
    "\n",
    "def process(row):\n",
    "    \"returns some easy to parse signature\"\n",
    "    key = row[-1]\n",
    "    _, keyv, keyid = key.split(\" \")\n",
    "    keysig = ksig(keyv)\n",
    "    result = row[:-1]+(keyid, keysig, f\"{key}/{keysig}\")\n",
    "    #return result\n",
    "    return key_t(*result)"
   ]
  },
  {
   "cell_type": "markdown",
   "metadata": {},
   "source": [
    "## Data"
   ]
  },
  {
   "cell_type": "code",
   "execution_count": 33,
   "metadata": {},
   "outputs": [],
   "source": [
    "data = []"
   ]
  },
  {
   "cell_type": "markdown",
   "metadata": {},
   "source": [
    "### MacBook Air 2021 (M1)"
   ]
  },
  {
   "cell_type": "code",
   "execution_count": 34,
   "metadata": {},
   "outputs": [],
   "source": [
    "data += [(\"MBA2021 (M1)\", \"skl\", \"24-Nov-2021\", \"ssh-rsa AAAAB3NzaC1yc2EAAAADAQABAAABgQCd3+TzQ7pOybanSMvL7ecwS6TrI1mg2IeLoR54LQ5Vk1X27XsGmA5aLKvRzkuuDQ0XKlRLECWUZn6PWVBCPUkcDxP2fqUq+GMdWdUI/fxwBJ69VyVpD10u4/fb1RrGhVHVP2eV8p7WrseLeAfO8s5pJtKxkOrp4b7Aa/ROCThtTzCrkfDZX3e1dwUUuQMz9enHDVktIytLWsz+3UVcW9dV4OopgKGPoHddFIUMEdSjNsponK4WtbBcIE6308MJeyGM8aJxWOBmXcbM/8mdmXORauabc6fekukA5It/wOMuw0TEhBljkRnHqPE0Z/qHLqz0Sbp8/yDpszrvEVNmwrihBfmHRBBj9HLE4yhuEgpnfxYGBLHsGWWcJH1xpAqHViS0hHpa4ellZOVBFvIuSA2ZTNzts7nDs/7Oo1twvc/k0qt3hdcSagznaI2oPPRVGshl1XQi15nP6PquiXv3/cXFY+ao9UDdG0ybVVhqC4dOC+0q07Gz1ZFbCvoAg4LZ3AM= skl@MBA2021\")]"
   ]
  },
  {
   "cell_type": "markdown",
   "metadata": {},
   "source": [
    "### iPhone 12 2021"
   ]
  },
  {
   "cell_type": "code",
   "execution_count": 35,
   "metadata": {},
   "outputs": [],
   "source": [
    "data += [(\"iPhone12\", \"Blink\", \"22-Apr-2023\", \"ssh-rsa AAAAB3NzaC1yc2EAAAADAQABAAACAQC0NwVsrH6PpMcK1iqtAZWY4bT1GnybSYDCZ7Y2Dh4nS/i3GUf4iItOHm63BJCwMV5FYPAwGIhH3uttQ9y2zDSTv4LSVJQSeGHgvmpbePbiXIixiTeUwOdfAVCicH74DjWE0rKcfkAjYfzdQSnOpe3ABprFEfRk9yftLhhZx+v9rZNBfDd5Q4v+Ui+NXkJP46iYoakp6OU+5PTQOG5uyZgdvev/37CiVgFbuE5Ma8Pa5YZNhieHJTpUcHWdFVbafoYPKFUldfVrJjEp0sCnjO99L+1JV9vqTiEkQEz2KEWodlKf3M4Em75v61qvUowu/hjkWFMrkK9nEZpGb57zZyJ5pv0b5eJWn2ht6UvBqtnPODD5GubTLRwKBOcWjeF5XsdJo0d26NX6ydJeP5fBa59Pla1QpiCsKTkCfIVZ+wkw8FaMuriXPG+QiT6Sdv91IrDb6GgQvXSD8EwiqqNNSsqiLob0VH81ymJtsifBcjLGG4I4pda+mxyYIz+aDBHEKjvmmLRWCT0vkbgFM/OK5+hKJeHaiFeaGEAHU99a/kUgizKXchaSvVzGQS6Txv+lOC2eJk+UL4jLsG/9/S897ZqAtkMAbL38P3cWpHnIwf3W4fWOouko4puJW6ZOxGIsvh1ne6idVkx4Uc8Ipn3kOPT7n7iaC3NYfT4kqQ7e46RYcw== blink2@iphone12\")]"
   ]
  },
  {
   "cell_type": "markdown",
   "metadata": {},
   "source": [
    "### MacBook Air 2020"
   ]
  },
  {
   "cell_type": "code",
   "execution_count": 36,
   "metadata": {},
   "outputs": [],
   "source": [
    "data += [(\"MBA2020\", \"skl\", \"1-Sep-2020\", \"ssh-rsa AAAAB3NzaC1yc2EAAAADAQABAAABgQCeswbbVGYYy1nMAd9X2OAtDH7VUjJffDYTrRh5YUkiAHlJY7CVpZ9cHHDf8JzJj1I5DDE9OHHE5ZB5EkMjqPPeOkgseZkexMNjyDxZSTv9+4/JdBgWk7s5wNGtWid3yikdUg9pdRRUdyATjvNphLunS1nR9TS4wfBsL4Hqhl5IOn/TOwPxMZ2Bn37wfXsLPKtQxaJo7lY3m9ZX8b+38qF7bOGrYDLWzUcH8VwgizNT0camRvUcgAaMYSI4+Mz8HtakQtCwXE+iMgAndZNx0UNW9uzL7yrc2fHDMy/7PJXQx2V2ENDPZx494wP+DNG0l6zamDSZTLToaktM49ut3r9anCqwru3Fp63G0amJ1Gc4x70yWHTE/vPUPzCOB2Y/dOb5eY6u1CKBMGOSvBy19hWQmQjZtBmgEeKjpbalGcFCEeE7K8SvXvdUPKGJUrfc5ke3oDpXW9Ei353lAgOz2VPfigby20HVAlTu3r200L4q39PO2/1QecFZFzt/azhLlpU= skl@MBA2020v2\")]"
   ]
  },
  {
   "cell_type": "markdown",
   "metadata": {},
   "source": [
    "### iPad Pro 2019"
   ]
  },
  {
   "cell_type": "code",
   "execution_count": 37,
   "metadata": {},
   "outputs": [],
   "source": [
    "data += [(\"iPadPro2019\", \"Blink\", \"1-Jan-2019\", \"ssh-rsa AAAAB3NzaC1yc2EAAAADAQABAAABAQC6Vh+Oag8gVlN91mxCA2yipKXPtprV5LK/v6XKVCGg56TwwLyv+Mg72xXq9TAxJJZK2saVA/1dljKgmQu+9PRPjI4/lKZSH5UMVOCm7X5rL1Vrycfp49oAJYr8RC5a2T7+EGEiTxjuwmjQcCbLCvO8v3ZFDd4cFU2E4CGXwuAsU9Xhos8nKGx/uX6n96AMXRHy/dBAttdw+PRUNR7IFSTnJr89Efn8Ys9AfzbBzrhkEyKd9DFiz7TfzRAnzqXqAIKTRypYOUhvqRGTIOH3VNCEMaj0Pu83xN+n8mScjGz3BDgky3q/cA6mUU+9bI8GT1PaTp6XhLbwJd1udrD0TcQj Blink@iPadPro2019\")]"
   ]
  },
  {
   "cell_type": "code",
   "execution_count": 38,
   "metadata": {},
   "outputs": [],
   "source": [
    "data += [(\"iPadPro2019\", \"WorkingCopy\", \"1-Jan-2019\", \"ssh-rsa AAAAB3NzaC1yc2EAAAADAQABAAABAQCngwf+5Nvaf5ZWJuy7605DpVnq77FP/zlts3UJ10M7EEcvw7r24g5KGpliL6za0VW2sn9nF9M6Mvbhfb3VKQCwuCAyw96ZxSppj4yKCV4XimNXsT18mtuo6U8NzM8FQ3xNrp/xqPiwofSFAGiLgOhygyZvqEyR7+6KiMcTRJPhRZZ7I3yzTKCMYCoI8U8s1WcOHC6WJAp1iz1dBNeDHyO9XsmVU1ULGuTRIgvE7flpNYQoWwfO7va6qxBZynl0zW4SwgOImNPLFGSVoQaY1iBLgjJ19nrkeVquxfIMqp5V58HXFk0fk9AHTsUj/+mxBf950pCNSBU7SrMIjWkqbim9 WorkingCopy@iPadPro2019\")]"
   ]
  },
  {
   "cell_type": "code",
   "execution_count": 39,
   "metadata": {
    "lines_to_next_cell": 2
   },
   "outputs": [],
   "source": [
    "data += [(\"iPadPro2019\", \"Termius\", \"1-Jan-2019\", \"ssh-rsa AAAAB3NzaC1yc2EAAAADAQABAAABAQDc2nwJorUUjLirj/ddqZ2Zx9ArP4ofmgUXgCOE75+i2mzxFzLVWJkn/s7rsXfgADBzqZ1l5ibO6wuRy1eGSBu0KngQZ2DG4kWccfUImdGQSYoHrQmSyN6HIT3tkxp8bCcPOGfBylyvsROb2jT5KHCmvLZ3JI6YerYup/kDinv71BlG9UHqiXRGJsJh7kymncK/snpHifbViJ8aTS4y3wQrhCuARUI9VrfPNWhkoioYyBfbz0G4JjU6gwFL+ldMb1j+aKTjY5s9CRCQkGkOl8+X38icBzM3O2dS6T4ZoQFzXJPKXXn1zWeLePCjQgtOfaUaWyqV6nMYPufrFCgFarAn Termius@iPadPro2019\")]"
   ]
  },
  {
   "cell_type": "markdown",
   "metadata": {},
   "source": [
    "### iPhone Red 2018"
   ]
  },
  {
   "cell_type": "code",
   "execution_count": 40,
   "metadata": {},
   "outputs": [],
   "source": [
    "# data += [(\"iPhoneRed2018\", \"Blink\", \"1-Jan-2018\", \"ssh-rsa AAAAB3NzaC1yc2EAAAADAQABAAACAQC8YGQ0+86MR8ppXAUMbzv5darGSYLu/Bomyy6DwZN9eyjX7dRtch2xevUnI9xXXdS6RA/JhvvM9GxhorODQt4KHlRbuDU2Ei6xuGQftEgeP96+zSV7Y39dCRgf2vG1TDbX4LjdTHZ5enS9w51Dhy3ZZzCuRzODY5oRST6ZIM62F9myAL26yKcbebqrmStur3CnoVl39Aq7fMjT9T/ADdBSAFVskNIBaCS2Cchct2TcaO2SM9ElHQmcHt4um5PzmGKmG0hPiOzKnz38vdokX/YxDbivtcMtjcPlkMlXdxiAoRxUI9ll15prN2njrkMae4BLOL8EUqbubIRVv0LEOOmpgX89dgN4KWXAoYBDcCxiiH9hXxLY6Hhw/PKMqTzL5uWQYXppjQD9bZnf38s4I0blI09u3RTHykF3bxUbZgY26i/PSkaJFFtHWkvbGEB7AYWQabE1jvLMu6R1fxfUtHu90jjbv44k15JkKiy/rNyANUgWcl2arDW7DJoJd6gG+vvurEd25t/ZthGStE0Ng8NpLd0PFP9U59oYC/MYlS92p3I626m/Pz4rUWku4Rg5v9FnOLeNVP/oFxqxKi43/vdSQTl2fFa8jHxruHf9b1maaJ7qFGHiCH9zVOdgC8yktAk/24fy5a34qfmgEKBhf8wm6mywutp3OnSn5W/N6/SSJQ== Blink@iPhoneRed2018\")]"
   ]
  },
  {
   "cell_type": "code",
   "execution_count": 41,
   "metadata": {},
   "outputs": [],
   "source": [
    "# data += [(\"iPhoneRed2018\", \"WorkingCopy\", \"1-Jan-2018\", \"ssh-rsa AAAAB3NzaC1yc2EAAAADAQABAAABAQDanM9xbPwwlq8fWwoPFIEg2oqJgWFf8JpRsGZiMBWf5/UKGMtLnVk9aHEIMuZIz9L7b6AWTeLC9qWBadp66mI/2QV3wAI+OFa/PWw5cGArakuNWcGzgHsDPrf0k17jTlomTrn0u+RTTC5zIzLvCGJAVoWJXqqZEnxFak/s7yYkWiEELpcfgQsN3+pngkPkxQ0VMkQ9S0rlFVnEu5gvEiSqaGcisDl7htKnqaY3l5j6pyadhIYviVKFxtmNUCDLr+0a31p6fgziLCwbP1aVX4XtS/Mw9oHtT8jPsM/1NlQuCBQ7JvWTJ9LEAXHY6VHDVCdsmwbX3d18fvTCw9B1Cdjh WorkingCopy@iPhoneRed2018\")]"
   ]
  },
  {
   "cell_type": "code",
   "execution_count": 42,
   "metadata": {},
   "outputs": [],
   "source": [
    "# data += [(\"iPhoneRed2018\", \"Termius\", \"1-Jan-2018\", \"ssh-rsa AAAAB3NzaC1yc2EAAAADAQABAAABAQDoKtUqJmz7ttw1ebOWtcvAjxqtY1+d5VSbwcUAfUE3OmgOU0o1c/pVnPDM61/38/HZujkQMpzqjbnyg5w3I6Hy1yORwH2Fy854yK59QESGX2WAzd0GvOuBBKSKOdeE0SieVE4jx7LYhp23p96sWzzYxMaXfgfXLicORYwMCRgUM7i75xY89I4qn96757o+HQWssHpyRnJB2Tflj3jI/X4msSPdrl3Iz3EtHpkaj62T6tDRKFgn+y/pQYWh7imdvPkeCzxvW5SaKF/ffh/Xn+6NZYXFrTdyDLSk9J46surAnxfNcEkziUYtAALCLy/6ZUlbtxpFXc+PRCYaeMd+DXLD Termius@iPhoneRed2018\")]"
   ]
  },
  {
   "cell_type": "markdown",
   "metadata": {},
   "source": [
    "### iPad 2016"
   ]
  },
  {
   "cell_type": "code",
   "execution_count": 43,
   "metadata": {},
   "outputs": [],
   "source": [
    "# data += [(\"iPad2016\", \"Blink\", \"1-Jan-2016\", None)]"
   ]
  },
  {
   "cell_type": "code",
   "execution_count": 44,
   "metadata": {},
   "outputs": [],
   "source": [
    "# data += [(\"iPad2016\", \"WorkingCopy\", \"1-Jan-2016\", \"ssh-rsa AAAAB3NzaC1yc2EAAAADAQABAAABAQDBKNtM2qieAWlnw1YsJPUfMq5aX/3XZldRdiP2Tz6VpR6ZdMILAW+4SPffMg4FN/XTDylz+MpfvpNSCr+VNHSuf68lEXdPeXc7A5z2KPKtXGVzZxUtr7cnu94i6XAJrzSZKLgtNwXGyL8R8UA2HjlhTxrEJhGg2vqoobTghhqC3Gk4cxMbAWJlK+U7B0ydjUG6laGc4w7ugc2azjbd+L6ClKRKUbWysuy3GB05hb6A9rFjjPIi4cjA55gKjkjP/eqfn39+LfbyJkSA8xFehlIUsalP7E0ovogh3XDxL3rTg2V7Sh4lvpjhwHJgjiqtEi3DTx/L2rlT5/cd3MFOL0MJ WorkingCopy@iPad2016\")]"
   ]
  },
  {
   "cell_type": "code",
   "execution_count": 45,
   "metadata": {
    "lines_to_next_cell": 2
   },
   "outputs": [],
   "source": [
    "# data += [(\"iPad2016\", \"Termius\", \"1-Jan-2016\", \"ssh-rsa AAAAB3NzaC1yc2EAAAADAQABAAABAQC1EMmLcZDZZTR6IAGShkijgXwzlrDcWK/Lbpu4Vqfm/k9/QiuWZEaGm6wxHHcu/eHk9VELqpYZ3hXSoVOSEpEZkO5ilcraN8207oERxY8vQVuACyAjHroI4320svTr5d4vmirTIk4LnsFj2C6Boh4kEaABbg04E0dBfaR7cJ8W4ojKjSXiz+XRPVLzi9/WllbLrPJbQ35wytCykuEiN1bY4/CgaLvzdA2aKskIr4QttHf4tLL3STQoM9d+q+rf7pPOGwTbXFNEhQ+Ygj4FPul9LWhfdNoB8qK8E4l96plDNh5tY7ST8A2pcsZ0TDvqAMTb4LeRz14skub83B3RI6jn Termius@iPad2016\")]"
   ]
  },
  {
   "cell_type": "markdown",
   "metadata": {},
   "source": [
    "## Execution"
   ]
  },
  {
   "cell_type": "code",
   "execution_count": 46,
   "metadata": {},
   "outputs": [
    {
     "data": {
      "text/plain": [
       "(6, 6)"
      ]
     },
     "execution_count": 46,
     "metadata": {},
     "output_type": "execute_result"
    }
   ],
   "source": [
    "data_full = tuple(data)\n",
    "keydata = tuple(process(r) for r in data if not r[-1] is None)\n",
    "len(keydata), len(data_full)"
   ]
  },
  {
   "cell_type": "code",
   "execution_count": 47,
   "metadata": {},
   "outputs": [
    {
     "data": {
      "text/plain": [
       "key_t(device='iPhone12', account='Blink', date='22-Apr-2023', keyid='blink2@iphone12', keysig='Bmlx', key='ssh-rsa AAAAB3NzaC1yc2EAAAADAQABAAACAQC0NwVsrH6PpMcK1iqtAZWY4bT1GnybSYDCZ7Y2Dh4nS/i3GUf4iItOHm63BJCwMV5FYPAwGIhH3uttQ9y2zDSTv4LSVJQSeGHgvmpbePbiXIixiTeUwOdfAVCicH74DjWE0rKcfkAjYfzdQSnOpe3ABprFEfRk9yftLhhZx+v9rZNBfDd5Q4v+Ui+NXkJP46iYoakp6OU+5PTQOG5uyZgdvev/37CiVgFbuE5Ma8Pa5YZNhieHJTpUcHWdFVbafoYPKFUldfVrJjEp0sCnjO99L+1JV9vqTiEkQEz2KEWodlKf3M4Em75v61qvUowu/hjkWFMrkK9nEZpGb57zZyJ5pv0b5eJWn2ht6UvBqtnPODD5GubTLRwKBOcWjeF5XsdJo0d26NX6ydJeP5fBa59Pla1QpiCsKTkCfIVZ+wkw8FaMuriXPG+QiT6Sdv91IrDb6GgQvXSD8EwiqqNNSsqiLob0VH81ymJtsifBcjLGG4I4pda+mxyYIz+aDBHEKjvmmLRWCT0vkbgFM/OK5+hKJeHaiFeaGEAHU99a/kUgizKXchaSvVzGQS6Txv+lOC2eJk+UL4jLsG/9/S897ZqAtkMAbL38P3cWpHnIwf3W4fWOouko4puJW6ZOxGIsvh1ne6idVkx4Uc8Ipn3kOPT7n7iaC3NYfT4kqQ7e46RYcw== blink2@iphone12/Bmlx')"
      ]
     },
     "execution_count": 47,
     "metadata": {},
     "output_type": "execute_result"
    }
   ],
   "source": [
    "keydata[1]"
   ]
  },
  {
   "cell_type": "code",
   "execution_count": 48,
   "metadata": {},
   "outputs": [
    {
     "data": {
      "text/plain": [
       "{'5eGy', 'Bmlx', 'ED6n', 'Jdza', 'N8Nd', 'uGht'}"
      ]
     },
     "execution_count": 48,
     "metadata": {},
     "output_type": "execute_result"
    }
   ],
   "source": [
    "keys_bysig = {r.keysig: r for r in keydata}\n",
    "keys_bysig_s = set(keys_bysig.keys())\n",
    "keys_bysig_s"
   ]
  },
  {
   "cell_type": "code",
   "execution_count": 49,
   "metadata": {},
   "outputs": [],
   "source": [
    "authorized_keys = \"\\n\".join(r.key for r in keydata)\n",
    "with open(\"authorized_keys\", \"w\") as f: f.write(authorized_keys)\n",
    "#print(authorized_keys)"
   ]
  },
  {
   "cell_type": "markdown",
   "metadata": {},
   "source": [
    "## Analysis\n",
    "\n",
    "paste an authorized_keys file here to analyse it and compare it against known keys"
   ]
  },
  {
   "cell_type": "code",
   "execution_count": 50,
   "metadata": {},
   "outputs": [
    {
     "data": {
      "text/plain": [
       "'root@NA:/root/.ssh/authorized_keys'"
      ]
     },
     "execution_count": 50,
     "metadata": {},
     "output_type": "execute_result"
    }
   ],
   "source": [
    "server = \"NA\"\n",
    "acct = \"root\"\n",
    "home = \"/root\"\n",
    "fullpath = f\"{acct}@{server}:{home}/.ssh/authorized_keys\"\n",
    "fullpath "
   ]
  },
  {
   "cell_type": "code",
   "execution_count": 51,
   "metadata": {},
   "outputs": [
    {
     "name": "stdout",
     "output_type": "stream",
     "text": [
      "ssh: Could not resolve hostname na: nodename nor servname provided, or not known\n",
      "rsync: connection unexpectedly closed (0 bytes received so far) [receiver]\n",
      "rsync error: unexplained error (code 255) at /AppleInternal/Library/BuildRoots/a0876c02-1788-11ed-b9c4-96898e02b808/Library/Caches/com.apple.xbs/Sources/rsync/rsync/io.c(453) [receiver=2.6.9]\n"
     ]
    }
   ],
   "source": [
    "!rsync {fullpath} authorized_keys_far"
   ]
  },
  {
   "cell_type": "code",
   "execution_count": 52,
   "metadata": {},
   "outputs": [],
   "source": [
    "authorized_keys_test = \"\"\"\n",
    "ssh-rsa AAAAB3NzaC1yc2EAAAADAQABAAACAQC0NwVsrH6PpMcK1iqtAZWY4bT1GnybSYDCZ7Y2Dh4nS/i3GUf4iItOHm63BJCwMV5FYPAwGIhH3uttQ9y2zDSTv4LSVJQSeGHgvmpbePbiXIixiTeUwOdfAVCicH74DjWE0rKcfkAjYfzdQSnOpe3ABprFEfRk9yftLhhZx+v9rZNBfDd5Q4v+Ui+NXkJP46iYoakp6OU+5PTQOG5uyZgdvev/37CiVgFbuE5Ma8Pa5YZNhieHJTpUcHWdFVbafoYPKFUldfVrJjEp0sCnjO99L+1JV9vqTiEkQEz2KEWodlKf3M4Em75v61qvUowu/hjkWFMrkK9nEZpGb57zZyJ5pv0b5eJWn2ht6UvBqtnPODD5GubTLRwKBOcWjeF5XsdJo0d26NX6ydJeP5fBa59Pla1QpiCsKTkCfIVZ+wkw8FaMuriXPG+QiT6Sdv91IrDb6GgQvXSD8EwiqqNNSsqiLob0VH81ymJtsifBcjLGG4I4pda+mxyYIz+aDBHEKjvmmLRWCT0vkbgFM/OK5+hKJeHaiFeaGEAHU99a/kUgizKXchaSvVzGQS6Txv+lOC2eJk+UL4jLsG/9/S897ZqAtkMAbL38P3cWpHnIwf3W4fWOouko4puJW6ZOxGIsvh1ne6idVkx4Uc8Ipn3kOPT7n7iaC3NYfT4kqQ7e46RYcw== blink2@iphone12\n",
    "ssh-rsa AAAAB3NzaC1yc2EAAAADAQABAAABgQCd3+TzQ7pOybanSMvL7ecwS6TrI1mg2IeLoR54LQ5Vk1X27XsGmA5aLKvRzkuuDQ0XKlRLECWUZn6PWVBCPUkcDxP2fqUq+GMdWdUI/fxwBJ69VyVpD10u4/fb1RrGhVHVP2eV8p7WrseLeAfO8s5pJtKxkOrp4b7Aa/ROCThtTzCrkfDZX3e1dwUUuQMz9enHDVktIytLWsz+3UVcW9dV4OopgKGPoHddFIUMEdSjNsponK4WtbBcIE6308MJeyGM8aJxWOBmXcbM/8mdmXORauabc6fekukA5It/wOMuw0TEhBljkRnHqPE0Z/qHLqz0Sbp8/yDpszrvEVNmwrihBfmHRBBj9HLE4yhuEgpnfxYGBLHsGWWcJH1xpAqHViS0hHpa4ellZOVBFvIuSA2ZTNzts7nDs/7Oo1twvc/k0qt3hdcSagznaI2oPPRVGshl1XQi15nP6PquiXv3/cXFY+ao9UDdG0ybVVhqC4dOC+0q07Gz1ZFbCvoAg4LZ3AM= skl@MBA2021\n",
    "ssh-rsa AAAAB3NzaC1yc2EAAAADAQABAAABgQCd3+TzQ7pOybanSMvL7ecwS6TrI1mg2IeLoR54LQ5Vk1X27XsGmA5aLKvRzkuuDQ0XKlRLECWUZn6PWVBCPUkcDxP2fqUq+GMdWdUI/fxwBJ69VyVpD10u4/fb1RrGhVHVP2eV8p7WrseLeAfO8s5pJtKxkOrp4b7Aa/ROCThtTzCrkfDZX3e1dwUUuQMz9enHDVktIytLWsz+3UVcW9dV4OopgKGPoHddFIUMEdSjNsponK4WtbBcIE6308MJeyGM8aJxWOBmXcbM/8mdmXORauabc6fekukA5It/wOMuw0TEhBljkRnHqPE0Z/qHLqz0Sbp8/yDpszrvEVNmwrihBfmHRBBj9HLE4yhuEgpnfxYGBLHsGWWcJH1xpAqHViS0hHpa4ellZOVBFvIuSA2ZTNzts7nDs/7Oo1twvc/k0qt3hdcSagznaI2oPPRVGshl1XQi15nP6PquiXv3/cXFY+ao9UDdG0ybVVhqC4dOC+0q07Gz1ZFbCvoAg4LZ3AM= skl@MBA2021/5eGy\n",
    "ssh-rsa AAAAB3NzaC1yc2EAAAADAQABAAABgQCeswbbVGYYy1nMAd9X2OAtDH7VUjJffDYTrRh5YUkiAHlJY7CVpZ9cHHDf8JzJj1I5DDE9OHHE5ZB5EkMjqPPeOkgseZkexMNjyDxZSTv9+4/JdBgWk7s5wNGtWid3yikdUg9pdRRUdyATjvNphLunS1nR9TS4wfBsL4Hqhl5IOn/TOwPxMZ2Bn37wfXsLPKtQxaJo7lY3m9ZX8b+38qF7bOGrYDLWzUcH8VwgizNT0camRvUcgAaMYSI4+Mz8HtakQtCwXE+iMgAndZNx0UNW9uzL7yrc2fHDMy/7PJXQx2V2ENDPZx494wP+DNG0l6zamDSZTLToaktM49ut3r9anCqwru3Fp63G0amJ1Gc4x70yWHTE/vPUPzCOB2Y/dOb5eY6u1CKBMGOSvBy19hWQmQjZtBmgEeKjpbalGcFCEeE7K8SvXvdUPKGJUrfc5ke3oDpXW9Ei353lAgOz2VPfigby20HVAlTu3r200L4q39PO2/1QecFZFzt/azhLlpU= skl@MBA2020v2/Jdza\n",
    "ssh-rsa AAAAB3NzaC1yc2EAAAADAQABAAABAQC6Vh+Oag8gVlN91mxCA2yipKXPtprV5LK/v6XKVCGg56TwwLyv+Mg72xXq9TAxJJZK2saVA/1dljKgmQu+9PRPjI4/lKZSH5UMVOCm7X5rL1Vrycfp49oAJYr8RC5a2T7+EGEiTxjuwmjQcCbLCvO8v3ZFDd4cFU2E4CGXwuAsU9Xhos8nKGx/uX6n96AMXRHy/dBAttdw+PRUNR7IFSTnJr89Efn8Ys9AfzbBzrhkEyKd9DFiz7TfzRAnzqXqAIKTRypYOUhvqRGTIOH3VNCEMaj0Pu83xN+n8mScjGz3BDgky3q/cA6mUU+9bI8GT1PaTp6XhLbwJd1udrD0TcQj Blink@iPadPro2019/ED6n\n",
    "ssh-rsa AAAAB3NzaC1yc2EAAAADAQABAAABAQCngwf+5Nvaf5ZWJuy7605DpVnq77FP/zlts3UJ10M7EEcvw7r24g5KGpliL6za0VW2sn9nF9M6Mvbhfb3VKQCwuCAyw96ZxSppj4yKCV4XimNXsT18mtuo6U8NzM8FQ3xNrp/xqPiwofSFAGiLgOhygyZvqEyR7+6KiMcTRJPhRZZ7I3yzTKCMYCoI8U8s1WcOHC6WJAp1iz1dBNeDHyO9XsmVU1ULGuTRIgvE7flpNYQoWwfO7va6qxBZynl0zW4SwgOImNPLFGSVoQaY1iBLgjJ19nrkeVquxfIMqp5V58HXFk0fk9AHTsUj/+mxBf950pCNSBU7SrMIjWkqbim9 WorkingCopy@iPadPro2019/uGht\n",
    "ssh-rsa AAAAB3NzaC1yc2EAAAADAQABAAABAQDc2nwJorUUjLirj/ddqZ2Zx9ArP4ofmgUXgCOE75+i2mzxFzLVWJkn/s7rsXfgADBzqZ1l5ibO6wuRy1eGSBu0KngQZ2DG4kWccfUImdGQSYoHrQmSyN6HIT3tkxp8bCcPOGfBylyvsROb2jT5KHCmvLZ3JI6YerYup/kDinv71BlG9UHqiXRGJsJh7kymncK/snpHifbViJ8aTS4y3wQrhCuARUI9VrfPNWhkoioYyBfbz0G4JjU6gwFL+ldMb1j+aKTjY5s9CRCQkGkOl8+X38icBzM3O2dS6T4ZoQFzXJPKXXn1zWeLePCjQgtOfaUaWyqV6nMYPufrFCgFarAn Termius@iPadPro2019/N8Nd\n",
    "ssh-rsa AAAAB3NzaC1yc2EAAAADAQABAAACAQC8YGQ0+86MR8ppXAUMbzv5darGSYLu/Bomyy6DwZN9eyjX7dRtch2xevUnI9xXXdS6RA/JhvvM9GxhorODQt4KHlRbuDU2Ei6xuGQftEgeP96+zSV7Y39dCRgf2vG1TDbX4LjdTHZ5enS9w51Dhy3ZZzCuRzODY5oRST6ZIM62F9myAL26yKcbebqrmStur3CnoVl39Aq7fMjT9T/ADdBSAFVskNIBaCS2Cchct2TcaO2SM9ElHQmcHt4um5PzmGKmG0hPiOzKnz38vdokX/YxDbivtcMtjcPlkMlXdxiAoRxUI9ll15prN2njrkMae4BLOL8EUqbubIRVv0LEOOmpgX89dgN4KWXAoYBDcCxiiH9hXxLY6Hhw/PKMqTzL5uWQYXppjQD9bZnf38s4I0blI09u3RTHykF3bxUbZgY26i/PSkaJFFtHWkvbGEB7AYWQabE1jvLMu6R1fxfUtHu90jjbv44k15JkKiy/rNyANUgWcl2arDW7DJoJd6gG+vvurEd25t/ZthGStE0Ng8NpLd0PFP9U59oYC/MYlS92p3I626m/Pz4rUWku4Rg5v9FnOLeNVP/oFxqxKi43/vdSQTl2fFa8jHxruHf9b1maaJ7qFGHiCH9zVOdgC8yktAk/24fy5a34qfmgEKBhf8wm6mywutp3OnSn5W/N6/SSJQ== Blink@iPhoneRed2018/m6RH\n",
    "ssh-rsa AAAAB3NzaC1yc2EAAAADAQABAAABAQDanM9xbPwwlq8fWwoPFIEg2oqJgWFf8JpRsGZiMBWf5/UKGMtLnVk9aHEIMuZIz9L7b6AWTeLC9qWBadp66mI/2QV3wAI+OFa/PWw5cGArakuNWcGzgHsDPrf0k17jTlomTrn0u+RTTC5zIzLvCGJAVoWJXqqZEnxFak/s7yYkWiEELpcfgQsN3+pngkPkxQ0VMkQ9S0rlFVnEu5gvEiSqaGcisDl7htKnqaY3l5j6pyadhIYviVKFxtmNUCDLr+0a31p6fgziLCwbP1aVX4XtS/Mw9oHtT8jPsM/1NlQuCBQ7JvWTJ9LEAXHY6VHDVCdsmwbX3d18fvTCw9B1Cdjh WorkingCopy@iPhoneRed2018/RFog\n",
    "ssh-rsa AAAAB3NzaC1yc2EAAAADAQABAAABAQDoKtUqJmz7ttw1ebOWtcvAjxqtY1+d5VSbwcUAfUE3OmgOU0o1c/pVnPDM61/38/HZujkQMpzqjbnyg5w3I6Hy1yORwH2Fy854yK59QESGX2WAzd0GvOuBBKSKOdeE0SieVE4jx7LYhp23p96sWzzYxMaXfgfXLicORYwMCRgUM7i75xY89I4qn96757o+HQWssHpyRnJB2Tflj3jI/X4msSPdrl3Iz3EtHpkaj62T6tDRKFgn+y/pQYWh7imdvPkeCzxvW5SaKF/ffh/Xn+6NZYXFrTdyDLSk9J46surAnxfNcEkziUYtAALCLy/6ZUlbtxpFXc+PRCYaeMd+DXLD Termius@iPhoneRed2018/N5Le\n",
    "ssh-rsa AAAAB3NzaC1yc2EAAAADAQABAAABAQDBKNtM2qieAWlnw1YsJPUfMq5aX/3XZldRdiP2Tz6VpR6ZdMILAW+4SPffMg4FN/XTDylz+MpfvpNSCr+VNHSuf68lEXdPeXc7A5z2KPKtXGVzZxUtr7cnu94i6XAJrzSZKLgtNwXGyL8R8UA2HjlhTxrEJhGg2vqoobTghhqC3Gk4cxMbAWJlK+U7B0ydjUG6laGc4w7ugc2azjbd+L6ClKRKUbWysuy3GB05hb6A9rFjjPIi4cjA55gKjkjP/eqfn39+LfbyJkSA8xFehlIUsalP7E0ovogh3XDxL3rTg2V7Sh4lvpjhwHJgjiqtEi3DTx/L2rlT5/cd3MFOL0MJ WorkingCopy@iPad2016/6g+o\n",
    "ssh-rsa AAAAB3NzaC1yc2EAAAADAQABAAABAQC1EMmLcZDZZTR6IAGShkijgXwzlrDcWK/Lbpu4Vqfm/k9/QiuWZEaGm6wxHHcu/eHk9VELqpYZ3hXSoVOSEpEZkO5ilcraN8207oERxY8vQVuACyAjHroI4320svTr5d4vmirTIk4LnsFj2C6Boh4kEaABbg04E0dBfaR7cJ8W4ojKjSXiz+XRPVLzi9/WllbLrPJbQ35wytCykuEiN1bY4/CgaLvzdA2aKskIr4QttHf4tLL3STQoM9d+q+rf7pPOGwTbXFNEhQ+Ygj4FPul9LWhfdNoB8qK8E4l96plDNh5tY7ST8A2pcsZ0TDvqAMTb4LeRz14skub83B3RI6jn Termius@iPad2016/yZW5\n",
    "\"\"\""
   ]
  },
  {
   "cell_type": "code",
   "execution_count": 53,
   "metadata": {},
   "outputs": [],
   "source": [
    "authorized_keys_test = authorized_keys_test.strip()"
   ]
  },
  {
   "cell_type": "code",
   "execution_count": 54,
   "metadata": {},
   "outputs": [
    {
     "data": {
      "text/plain": [
       "{'5eGy',\n",
       " '6g+o',\n",
       " 'Bmlx',\n",
       " 'ED6n',\n",
       " 'Jdza',\n",
       " 'N5Le',\n",
       " 'N8Nd',\n",
       " 'RFog',\n",
       " 'm6RH',\n",
       " 'uGht',\n",
       " 'yZW5'}"
      ]
     },
     "execution_count": 54,
     "metadata": {},
     "output_type": "execute_result"
    }
   ],
   "source": [
    "testkeys_bysig = {ksig(k.split()[1]): k for k in authorized_keys_test.split(\"\\n\")}\n",
    "testkeys_bysig_s = set(testkeys_bysig.keys())\n",
    "testkeys_bysig_s"
   ]
  },
  {
   "cell_type": "code",
   "execution_count": 55,
   "metadata": {},
   "outputs": [
    {
     "data": {
      "text/plain": [
       "(('skl@MBA2021', '5eGy'),\n",
       " ('blink2@iphone12', 'Bmlx'),\n",
       " ('skl@MBA2020v2', 'Jdza'),\n",
       " ('Blink@iPadPro2019', 'ED6n'),\n",
       " ('WorkingCopy@iPadPro2019', 'uGht'),\n",
       " ('Termius@iPadPro2019', 'N8Nd'))"
      ]
     },
     "execution_count": 55,
     "metadata": {},
     "output_type": "execute_result"
    }
   ],
   "source": [
    "known_keys_s = testkeys_bysig_s.intersection(keys_bysig_s)\n",
    "known_keys = {s:r for s,r in keys_bysig.items() if s in known_keys_s}\n",
    "known_keys.keys()\n",
    "tuple((k.keyid, k.keysig) for k in known_keys.values())"
   ]
  },
  {
   "cell_type": "code",
   "execution_count": 56,
   "metadata": {},
   "outputs": [
    {
     "data": {
      "text/plain": [
       "(('Blink@iPhoneRed2018/m6RH', 'm6RH'),\n",
       " ('WorkingCopy@iPhoneRed2018/RFog', 'RFog'),\n",
       " ('Termius@iPhoneRed2018/N5Le', 'N5Le'),\n",
       " ('WorkingCopy@iPad2016/6g+o', '6g+o'),\n",
       " ('Termius@iPad2016/yZW5', 'yZW5'))"
      ]
     },
     "execution_count": 56,
     "metadata": {},
     "output_type": "execute_result"
    }
   ],
   "source": [
    "unknown_keys_s = testkeys_bysig_s.difference(known_keys_s)\n",
    "unknown_keys = {s:r for s,r in testkeys_bysig.items() if s in unknown_keys_s}\n",
    "unknown_keys.keys()\n",
    "tuple((k.split(\" \")[-1], s) for s,k in unknown_keys.items())"
   ]
  },
  {
   "cell_type": "code",
   "execution_count": 57,
   "metadata": {},
   "outputs": [
    {
     "data": {
      "text/plain": [
       "()"
      ]
     },
     "execution_count": 57,
     "metadata": {},
     "output_type": "execute_result"
    }
   ],
   "source": [
    "missing_keys_s = keys_bysig_s.difference(known_keys_s)\n",
    "missing_keys = {s:r for s,r in keys_bysig.items() if s in missing_keys_s}\n",
    "missing_keys.keys()\n",
    "tuple((k.keyid, k.keysig) for k in missing_keys.values())"
   ]
  },
  {
   "cell_type": "code",
   "execution_count": 58,
   "metadata": {},
   "outputs": [
    {
     "name": "stdout",
     "output_type": "stream",
     "text": [
      "\n"
     ]
    }
   ],
   "source": [
    "missing_keys_ak = \"\\n\".join(k.key for k in missing_keys.values())\n",
    "print(missing_keys_ak)"
   ]
  },
  {
   "cell_type": "code",
   "execution_count": null,
   "metadata": {},
   "outputs": [],
   "source": []
  }
 ],
 "metadata": {
  "jupytext": {
   "encoding": "# -*- coding: utf-8 -*-",
   "formats": "ipynb,py:light"
  },
  "kernelspec": {
   "display_name": "Python 3",
   "language": "python",
   "name": "python3"
  },
  "language_info": {
   "codemirror_mode": {
    "name": "ipython",
    "version": 3
   },
   "file_extension": ".py",
   "mimetype": "text/x-python",
   "name": "python",
   "nbconvert_exporter": "python",
   "pygments_lexer": "ipython3",
   "version": "3.8.8"
  }
 },
 "nbformat": 4,
 "nbformat_minor": 4
}
